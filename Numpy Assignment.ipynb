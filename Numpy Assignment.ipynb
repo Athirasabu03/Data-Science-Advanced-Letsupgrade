{
 "cells": [
  {
   "cell_type": "markdown",
   "metadata": {},
   "source": [
    "# Explain function,syntax,code and application of the following:"
   ]
  },
  {
   "cell_type": "markdown",
   "metadata": {},
   "source": [
    "# 1.Eigen values and eigen vectors of an array"
   ]
  },
  {
   "cell_type": "code",
   "execution_count": 2,
   "metadata": {},
   "outputs": [
    {
     "name": "stdout",
     "output_type": "stream",
     "text": [
      "[-0.37228132  5.37228132]\n",
      "[[-0.82456484 -0.41597356]\n",
      " [ 0.56576746 -0.90937671]]\n"
     ]
    }
   ],
   "source": [
    "#Syntax:-\n",
    "#numpy.linalg.eig()\n",
    "import numpy as np\n",
    "a=np.array([[1,2],[3,4]])\n",
    "w,v=np.linalg.eig(a)\n",
    "print(w)#It gives eigen values\n",
    "print(v)#gives eigen vectors corresponding to eigen values"
   ]
  },
  {
   "cell_type": "raw",
   "metadata": {},
   "source": [
    "Applications\n",
    "1.Communication systems:used to determine the theoretical limit to how much information can be\n",
    "transmitted through a communication medium like your telephone line or through the air. "
   ]
  },
  {
   "cell_type": "markdown",
   "metadata": {},
   "source": [
    "# 2.digitize()"
   ]
  },
  {
   "cell_type": "code",
   "execution_count": 4,
   "metadata": {},
   "outputs": [
    {
     "name": "stdout",
     "output_type": "stream",
     "text": [
      "[2 3 3 4]\n"
     ]
    }
   ],
   "source": [
    "# Syntax:-\n",
    "#np.digitize(Array, Bin, Right)\n",
    "#Code\n",
    "import numpy as np \n",
    "a = np.array([1.7, 2.5, 3.7, 4.9]) \n",
    "bins = np.array([1.0, 1.3, 2.5, 4.0, 10.0]) \n",
    "  \n",
    "# using np.digitize() method \n",
    "dig = np.digitize(a, bins) \n",
    "  \n",
    "print(dig) "
   ]
  },
  {
   "cell_type": "raw",
   "metadata": {},
   "source": [
    "Applications:\n",
    "1.Binning and grouping of data."
   ]
  },
  {
   "cell_type": "markdown",
   "metadata": {},
   "source": [
    "# 3.repeat()"
   ]
  },
  {
   "cell_type": "code",
   "execution_count": 5,
   "metadata": {},
   "outputs": [
    {
     "data": {
      "text/plain": [
       "array([3, 3, 3, 3, 3, 3, 3])"
      ]
     },
     "execution_count": 5,
     "metadata": {},
     "output_type": "execute_result"
    }
   ],
   "source": [
    "#Syntax:-\n",
    "#np.repeat(element to be repeated,number of times it is to be repeated)\n",
    "#Code:-\n",
    "import numpy as np\n",
    "np.repeat(3,7)"
   ]
  },
  {
   "cell_type": "raw",
   "metadata": {},
   "source": [
    "Application:\n",
    "1.Used in duplication of arrays."
   ]
  },
  {
   "cell_type": "markdown",
   "metadata": {},
   "source": [
    "# 4.squeeze()"
   ]
  },
  {
   "cell_type": "code",
   "execution_count": 6,
   "metadata": {},
   "outputs": [
    {
     "name": "stdout",
     "output_type": "stream",
     "text": [
      "Input array :  [[[3 3 3]\n",
      "  [3 3 3]]]\n",
      "Shape of input array :  (1, 2, 3)\n",
      "squeezed array :  [[3 3 3]\n",
      " [3 3 3]]\n",
      "Shape of output array :  (2, 3)\n"
     ]
    }
   ],
   "source": [
    "# Syntax:-\n",
    "#numpy.squeeze(arr, axis=None )\n",
    "#Code:-\n",
    "import numpy as np\n",
    "a= np.array([[[3, 3, 3], [3, 3, 3]]]) \n",
    "print (\"Input array : \", a)  \n",
    "print(\"Shape of input array : \", a.shape)   \n",
    "b = np.squeeze(a)  \n",
    "print (\"squeezed array : \", b) \n",
    "print(\"Shape of output array : \", b.shape)"
   ]
  },
  {
   "cell_type": "raw",
   "metadata": {},
   "source": [
    "Application:\n",
    "    1.Used to remove single-dimensional entries from the shape of an array."
   ]
  },
  {
   "cell_type": "markdown",
   "metadata": {},
   "source": [
    "# 5.linspace()"
   ]
  },
  {
   "cell_type": "code",
   "execution_count": 8,
   "metadata": {},
   "outputs": [
    {
     "name": "stdout",
     "output_type": "stream",
     "text": [
      "B (array([2.  , 2.25, 2.5 , 2.75, 3.  ]), 0.25) \n",
      "\n",
      "A [0.         0.22039774 0.42995636 0.6183698  0.77637192 0.8961922\n",
      " 0.9719379  0.99988386 0.9786557  0.90929743]\n"
     ]
    }
   ],
   "source": [
    "#Syntax:-\n",
    "#numpy.linspace(start,stop,num = 50,endpoint = True,retstep = False,dtype = None)\n",
    "#code:-\n",
    "import numpy as np\n",
    "  \n",
    "# restep set to True \n",
    "print(\"B\", np.linspace(2.0, 3.0, num=5, retstep=True)) \n",
    "  \n",
    "# To evaluate sin() in long range  \n",
    "x = np.linspace(0, 2, 10) \n",
    "print(\"A\", np.sin(x)) "
   ]
  },
  {
   "cell_type": "raw",
   "metadata": {},
   "source": [
    "Application:\n",
    "-Used to return number spaces evenly with respect to interval. "
   ]
  },
  {
   "cell_type": "markdown",
   "metadata": {},
   "source": [
    "# 6.Clip()"
   ]
  },
  {
   "cell_type": "code",
   "execution_count": 9,
   "metadata": {},
   "outputs": [
    {
     "name": "stdout",
     "output_type": "stream",
     "text": [
      "Input array :  [1, 2, 3, 4, 5, 6, 7, 8]\n",
      "Output array :  [2 2 3 4 5 6 6 6]\n"
     ]
    }
   ],
   "source": [
    "#Syntax:-\n",
    "#numpy.clip(a, a_min, a_max, out=None)\n",
    "#code:-\n",
    "import numpy as np \n",
    "c = [1, 2, 3, 4, 5, 6, 7, 8 ] \n",
    "print (\"Input array : \", c) \n",
    "b= np.clip(c, a_min = 2, a_max = 6) \n",
    "print (\"Output array : \",b) "
   ]
  },
  {
   "cell_type": "raw",
   "metadata": {},
   "source": [
    "Application:Used to limit values in an array"
   ]
  },
  {
   "cell_type": "markdown",
   "metadata": {},
   "source": [
    "# 7.Extract()"
   ]
  },
  {
   "cell_type": "code",
   "execution_count": 10,
   "metadata": {},
   "outputs": [
    {
     "name": "stdout",
     "output_type": "stream",
     "text": [
      "Original array :  [[0 1]\n",
      " [2 3]\n",
      " [4 5]\n",
      " [6 7]\n",
      " [8 9]]\n",
      "Array Condition a :  [[False  True]\n",
      " [ True  True]\n",
      " [False  True]\n",
      " [ True  True]\n",
      " [False  True]]\n",
      "Elements that satisfy condition a  :  [1 2 3 5 6 7 9]\n",
      "Array Condition b :  [[False False]\n",
      " [False False]\n",
      " [False  True]\n",
      " [False False]\n",
      " [False False]]\n",
      "Elements that satisfy condition b  :  [5]\n"
     ]
    }
   ],
   "source": [
    "#Syntax:-\n",
    "#numpy.extract(condition, array)\n",
    "#Code:-\n",
    "import numpy as np \n",
    "  \n",
    "x = np.arange(10).reshape(5, 2) \n",
    "print(\"Original array : \", x) \n",
    "  \n",
    "a = np.mod(x, 4) !=0\n",
    "# This will show element status of satisfying condition \n",
    "print(\"Array Condition a : \", a) \n",
    "  \n",
    "# This will return elements that satisy condition \"a\" condition \n",
    "print(\"Elements that satisfy condition a  : \", np.extract(a,x))  \n",
    "b = x - 4 == 1\n",
    "# This will show element status of satisfying condition \n",
    "print(\"Array Condition b : \", b) \n",
    "  \n",
    "# This will return elements that satisy condition \"b\" condition \n",
    "print(\"Elements that satisfy condition b  : \", np.extract(b,x)) "
   ]
  },
  {
   "cell_type": "raw",
   "metadata": {},
   "source": [
    "Application:\n",
    "1.returns elements of input array if they satisfy some specified condition.\n"
   ]
  },
  {
   "cell_type": "markdown",
   "metadata": {},
   "source": [
    "# 8.argpartition()"
   ]
  },
  {
   "cell_type": "code",
   "execution_count": 12,
   "metadata": {},
   "outputs": [
    {
     "name": "stdout",
     "output_type": "stream",
     "text": [
      "Input array : \n",
      " [[2 0 1]\n",
      " [5 4 9]]\n",
      "Output partitioned array indices :\n",
      "  [[1 2 0]\n",
      " [1 0 2]]\n"
     ]
    }
   ],
   "source": [
    "# Syntax:-\n",
    "#numpy.argpartition(arr, kth, axis=-1, kind=’introselect’, order=None)\n",
    "#Code:-\n",
    "import numpy as np \n",
    "a = np.array([[ 2, 0,  1], [ 5, 4, 9] ]) \n",
    "print (\"Input array : \\n\", a)  \n",
    "  \n",
    "b= np.argpartition(a, 1, axis = 1) \n",
    "print (\"Output partitioned array indices :\\n \", b) "
   ]
  },
  {
   "cell_type": "raw",
   "metadata": {},
   "source": [
    "Application:-\n",
    "1.Used to create a indirect partitioned copy of input array with its elements rearranged in such a way that the value of the element in k-th position is in the position it would be in a sorted array."
   ]
  },
  {
   "cell_type": "markdown",
   "metadata": {},
   "source": [
    "# 9.setdiff1d()"
   ]
  },
  {
   "cell_type": "code",
   "execution_count": 1,
   "metadata": {},
   "outputs": [
    {
     "name": "stdout",
     "output_type": "stream",
     "text": [
      "[4 5 6]\n"
     ]
    }
   ],
   "source": [
    "# Syntax:-\n",
    "#numpy.setdiff1d(arr1, arr2, assume_unique = False)\n",
    "#Code:-\n",
    "import numpy as np \n",
    "a= [5, 6, 2, 3, 4] \n",
    "b= [1, 2, 3] \n",
    "   \n",
    "dif= np.setdiff1d(a,b) \n",
    "   \n",
    "print (dif) "
   ]
  },
  {
   "cell_type": "raw",
   "metadata": {},
   "source": [
    "Application:-\n",
    "1. used in finding the set difference of two arrays and return the unique values in the first array that are not in second array."
   ]
  },
  {
   "cell_type": "markdown",
   "metadata": {},
   "source": [
    "# 10.itemsize"
   ]
  },
  {
   "cell_type": "code",
   "execution_count": 3,
   "metadata": {},
   "outputs": [
    {
     "name": "stdout",
     "output_type": "stream",
     "text": [
      "8\n"
     ]
    }
   ],
   "source": [
    "# Syntax:-\n",
    "#numpy.ndarray.itemsize(arr)\n",
    "#Code:-\n",
    "import numpy as np \n",
    "  \n",
    "a= np.array([1, 2, 3, 4], dtype = np.float64) \n",
    "  \n",
    "s = a.itemsize \n",
    "  \n",
    "print (s) "
   ]
  },
  {
   "cell_type": "raw",
   "metadata": {},
   "source": [
    "Application:-\n",
    "1.used to find the length of one array element in bytes."
   ]
  },
  {
   "cell_type": "markdown",
   "metadata": {},
   "source": [
    "# 11.hstack()"
   ]
  },
  {
   "cell_type": "code",
   "execution_count": 4,
   "metadata": {},
   "outputs": [
    {
     "name": "stdout",
     "output_type": "stream",
     "text": [
      "1st Input array :  [1 2 3]\n",
      "2nd Input array :  [4 5 6]\n",
      "Output horizontally stacked array: [1 2 3 4 5 6]\n"
     ]
    }
   ],
   "source": [
    "#Syntax:-\n",
    "#numpy.hstack(tup)\n",
    "#Code:-\n",
    "import numpy as np \n",
    "  \n",
    "# input array \n",
    "a = np.array([ 1, 2, 3] ) \n",
    "print (\"1st Input array : \", a)  \n",
    "  \n",
    "b = np.array([ 4, 5, 6] ) \n",
    "print (\"2nd Input array : \", b)  \n",
    "  \n",
    "# Stacking the two arrays horizontally \n",
    "o = np.hstack((a, b)) \n",
    "print (\"Output horizontally stacked array:\", o) "
   ]
  },
  {
   "cell_type": "raw",
   "metadata": {},
   "source": [
    "Application:-\n",
    "1.used to stack the sequence of input arrays horizontally (i.e. column wise) to make a single array."
   ]
  },
  {
   "cell_type": "markdown",
   "metadata": {},
   "source": [
    "# 12.vstack()"
   ]
  },
  {
   "cell_type": "code",
   "execution_count": 5,
   "metadata": {},
   "outputs": [
    {
     "name": "stdout",
     "output_type": "stream",
     "text": [
      "1st Input array :  [1 2 3]\n",
      "2nd Input array :  [4 5 6]\n",
      "Output vertically stacked array:  [[1 2 3]\n",
      " [4 5 6]]\n"
     ]
    }
   ],
   "source": [
    "#Syntax:-\n",
    "#numpy.vstack(tup)\n",
    "#Code:-\n",
    "import numpy as np \n",
    "# input array\n",
    "a = np.array([ 1, 2, 3] ) \n",
    "print (\"1st Input array : \", a)  \n",
    "  \n",
    "b= np.array([ 4, 5, 6] ) \n",
    "print (\"2nd Input array : \", b)  \n",
    "  \n",
    "# Stacking the two arrays vertically \n",
    "o = np.vstack((a,b)) \n",
    "print (\"Output vertically stacked array: \", o) "
   ]
  },
  {
   "cell_type": "raw",
   "metadata": {},
   "source": [
    "Application:-\n",
    "1.Used to stack the sequence of input arrays vertically to make a single array."
   ]
  },
  {
   "cell_type": "markdown",
   "metadata": {},
   "source": [
    "# 13.hsplit()"
   ]
  },
  {
   "cell_type": "code",
   "execution_count": 6,
   "metadata": {},
   "outputs": [
    {
     "name": "stdout",
     "output_type": "stream",
     "text": [
      "[array([[ 0.,  1.],\n",
      "       [ 4.,  5.],\n",
      "       [ 8.,  9.],\n",
      "       [12., 13.]]), array([[ 2.,  3.],\n",
      "       [ 6.,  7.],\n",
      "       [10., 11.],\n",
      "       [14., 15.]])]\n"
     ]
    }
   ],
   "source": [
    "#Syntax:-\n",
    "# numpy.hsplit(arr, indices_or_sections)\n",
    "#Code:-\n",
    "import numpy as np\n",
    "a = np.arange(16.0).reshape(4, 4) \n",
    "b= np.hsplit(a, 2) \n",
    "print (b)"
   ]
  },
  {
   "cell_type": "raw",
   "metadata": {},
   "source": [
    "Application:-\n",
    "1. split an array into multiple sub-arrays horizontally (column-wise). "
   ]
  },
  {
   "cell_type": "markdown",
   "metadata": {},
   "source": [
    "# 14.vsplit()"
   ]
  },
  {
   "cell_type": "code",
   "execution_count": 7,
   "metadata": {},
   "outputs": [
    {
     "name": "stdout",
     "output_type": "stream",
     "text": [
      "[array([[0., 1., 2.],\n",
      "       [3., 4., 5.],\n",
      "       [6., 7., 8.]])]\n"
     ]
    }
   ],
   "source": [
    "#Syntax:-\n",
    "#numpy.vsplit(arr, indices_or_sections)\n",
    "#Code:-\n",
    "import numpy as np\n",
    "a = np.arange(9.0).reshape(3, 3) \n",
    "b= np.vsplit(a, 1) \n",
    "print (b) "
   ]
  },
  {
   "cell_type": "raw",
   "metadata": {},
   "source": [
    " Application:-\n",
    "    1.Used to split an array into multiple sub-arrays vertically (row-wise)."
   ]
  },
  {
   "cell_type": "markdown",
   "metadata": {},
   "source": [
    "# 15.view vs shallow copy"
   ]
  },
  {
   "cell_type": "code",
   "execution_count": 9,
   "metadata": {},
   "outputs": [
    {
     "name": "stdout",
     "output_type": "stream",
     "text": [
      "[555 666 777  13]\n",
      "[555 666 777  13]\n",
      "[555 666 777  13]\n",
      "[888  11  12  13]\n",
      "[999  11  12  13]\n"
     ]
    }
   ],
   "source": [
    "import numpy as np\n",
    "import copy\n",
    "\n",
    "x = np.array([10, 11, 12, 13])\n",
    "\n",
    "# Create views of x (shallow copies sharing data) in 2 different ways\n",
    "x_view1 = x.view()\n",
    "x_view2 = x[:]          # Creates a view using a slice\n",
    "\n",
    "# Create full copies of x (not sharing data) in 2 different ways\n",
    "x_copy1 = x.copy()\n",
    "x_copy2 = copy.copy(x)  # Calls x.__copy__() which creates a full copy of x\n",
    "\n",
    "# Change some array elements to see what happens\n",
    "x[0]       = 555        # Affects x, x_view1, and x_view2\n",
    "x_view1[1] = 666        # Affects x, x_view1, and x_view2\n",
    "x_view2[2] = 777        # Affects x, x_view1, and x_view2\n",
    "x_copy1[0] = 888        # Affects only x_copy1\n",
    "x_copy2[0] = 999        # Affects only x_copy2\n",
    "\n",
    "print(x)                # [555 666 777  13]\n",
    "print(x_view1)          # [555 666 777  13]\n",
    "print(x_view2)          # [555 666 777  13]\n",
    "print(x_copy1)          # [888  11  12  13]\n",
    "print(x_copy2)          # [999  11  12  13]"
   ]
  },
  {
   "cell_type": "raw",
   "metadata": {},
   "source": [
    "Application:-\n",
    "-A shallow copy of a list would contain copies of the first level of element references, and share the referenced element objects with the original list.\n",
    "-A view of a NumPy array is a shallow copy in sense A, i.e. it references the same data buffer as the original, so changes to the original data affect the view data and vice versa."
   ]
  },
  {
   "cell_type": "markdown",
   "metadata": {},
   "source": [
    "# 16.Deep Copy"
   ]
  },
  {
   "cell_type": "code",
   "execution_count": 11,
   "metadata": {},
   "outputs": [
    {
     "name": "stdout",
     "output_type": "stream",
     "text": [
      "The original elements before deep copying\n",
      "1 2 [3, 5] 4 \r\n",
      "The new list of elements after deep copying \n",
      "1 2 [7, 5] 4 \r\n",
      "The original elements after deep copying\n",
      "1 2 [3, 5] 4 "
     ]
    }
   ],
   "source": [
    "import copy \n",
    "  \n",
    "# initializing list 1 \n",
    "a = [1, 2, [3,5], 4] \n",
    "  \n",
    "# using deepcopy to deep copy  \n",
    "b = copy.deepcopy(a) \n",
    "  \n",
    "# original elements of list \n",
    "print (\"The original elements before deep copying\") \n",
    "for i in range(0,len(a)): \n",
    "    print (a[i],end=\" \") \n",
    "  \n",
    "print(\"\\r\") \n",
    "  \n",
    "# adding and element to new list \n",
    "b[2][0] = 7\n",
    "  \n",
    "# Change is reflected in l2  \n",
    "print (\"The new list of elements after deep copying \") \n",
    "for i in range(0,len( a)): \n",
    "    print (b[i],end=\" \") \n",
    "print(\"\\r\") \n",
    "  \n",
    "# Change is NOT reflected in original list \n",
    "# as it is a deep copy \n",
    "print (\"The original elements after deep copying\") \n",
    "for i in range(0,len( a)): \n",
    "    print (a[i],end=\" \") "
   ]
  },
  {
   "cell_type": "raw",
   "metadata": {},
   "source": [
    "Application:-\n",
    "-Deep copy is a process in which the copying process occurs recursively.\n",
    "-creates copies that user can modify without automatically modifying the original at the same time, in order to do that we create copies of objects."
   ]
  },
  {
   "cell_type": "markdown",
   "metadata": {},
   "source": [
    "# 17.Copy()"
   ]
  },
  {
   "cell_type": "code",
   "execution_count": 13,
   "metadata": {},
   "outputs": [
    {
     "name": "stdout",
     "output_type": "stream",
     "text": [
      "[1, 2, [3, 5], 4]\n",
      "[1, 2, [3, 5], 4]\n"
     ]
    }
   ],
   "source": [
    "import copy \n",
    "  \n",
    "# initializing list 1  \n",
    "a = [1, 2, [3,5], 4] \n",
    "  \n",
    "# using copy for shallow copy   \n",
    "b = copy.copy(a)  \n",
    "  \n",
    "# using deepcopy for deepcopy   \n",
    "c= copy.deepcopy(a)\n",
    "print(b)\n",
    "print(c)"
   ]
  },
  {
   "cell_type": "raw",
   "metadata": {},
   "source": [
    "Application:-\n",
    "sometimes a user wants copies that user can modify without automatically modifying the original at the same time, in order to do that we use copy() function."
   ]
  },
  {
   "cell_type": "markdown",
   "metadata": {},
   "source": [
    "# 18.meshgrid()"
   ]
  },
  {
   "cell_type": "code",
   "execution_count": 14,
   "metadata": {},
   "outputs": [
    {
     "name": "stdout",
     "output_type": "stream",
     "text": [
      "x1 = \n",
      "[[-4. -3. -2. -1.  0.  1.  2.  3.  4.]\n",
      " [-4. -3. -2. -1.  0.  1.  2.  3.  4.]\n",
      " [-4. -3. -2. -1.  0.  1.  2.  3.  4.]\n",
      " [-4. -3. -2. -1.  0.  1.  2.  3.  4.]\n",
      " [-4. -3. -2. -1.  0.  1.  2.  3.  4.]\n",
      " [-4. -3. -2. -1.  0.  1.  2.  3.  4.]\n",
      " [-4. -3. -2. -1.  0.  1.  2.  3.  4.]\n",
      " [-4. -3. -2. -1.  0.  1.  2.  3.  4.]\n",
      " [-4. -3. -2. -1.  0.  1.  2.  3.  4.]\n",
      " [-4. -3. -2. -1.  0.  1.  2.  3.  4.]\n",
      " [-4. -3. -2. -1.  0.  1.  2.  3.  4.]]\n",
      "y1 = \n",
      "[[-5. -5. -5. -5. -5. -5. -5. -5. -5.]\n",
      " [-4. -4. -4. -4. -4. -4. -4. -4. -4.]\n",
      " [-3. -3. -3. -3. -3. -3. -3. -3. -3.]\n",
      " [-2. -2. -2. -2. -2. -2. -2. -2. -2.]\n",
      " [-1. -1. -1. -1. -1. -1. -1. -1. -1.]\n",
      " [ 0.  0.  0.  0.  0.  0.  0.  0.  0.]\n",
      " [ 1.  1.  1.  1.  1.  1.  1.  1.  1.]\n",
      " [ 2.  2.  2.  2.  2.  2.  2.  2.  2.]\n",
      " [ 3.  3.  3.  3.  3.  3.  3.  3.  3.]\n",
      " [ 4.  4.  4.  4.  4.  4.  4.  4.  4.]\n",
      " [ 5.  5.  5.  5.  5.  5.  5.  5.  5.]]\n"
     ]
    }
   ],
   "source": [
    "import numpy as np \n",
    "import matplotlib.pyplot as plt # pyplot imported for plotting graphs \n",
    "x = np.linspace(-4, 4, 9)   \n",
    "y = np.linspace(-5, 5, 11) \n",
    "  \n",
    "# The meshgrid function returns \n",
    "# two 2-dimensional arrays  \n",
    "x1, y1 = np.meshgrid(x, y) \n",
    "  \n",
    "print(\"x1 = \") \n",
    "print(x1) \n",
    "print(\"y1 = \") \n",
    "print(y1) "
   ]
  },
  {
   "cell_type": "raw",
   "metadata": {},
   "source": [
    "Application:-\n",
    "-Used to create a rectangular grid out of two given one-dimensional arrays representing the Cartesian indexing or Matrix indexing."
   ]
  },
  {
   "cell_type": "markdown",
   "metadata": {},
   "source": [
    "# 19.swapaxes()"
   ]
  },
  {
   "cell_type": "code",
   "execution_count": 15,
   "metadata": {},
   "outputs": [
    {
     "name": "stdout",
     "output_type": "stream",
     "text": [
      "[[2]\n",
      " [4]\n",
      " [6]]\n"
     ]
    }
   ],
   "source": [
    "#Syntax:-\n",
    "# numpy.swapaxes(arr, axis1, axis2)\n",
    "#Code:-\n",
    "import numpy as np\n",
    "a = np.array([[2, 4, 6]]) \n",
    "b = np.swapaxes(a, 0, 1) \n",
    "print (b) "
   ]
  },
  {
   "cell_type": "raw",
   "metadata": {},
   "source": [
    "Application:-\n",
    "-Interchange two axes of an array."
   ]
  },
  {
   "cell_type": "markdown",
   "metadata": {},
   "source": [
    "# 20.column_stack()s"
   ]
  },
  {
   "cell_type": "code",
   "execution_count": 16,
   "metadata": {},
   "outputs": [
    {
     "name": "stdout",
     "output_type": "stream",
     "text": [
      "1st Input array : \n",
      " [1 2 3]\n",
      "2nd Input array : \n",
      " [4 5 6]\n",
      "Output stacked array:\n",
      "  [[1 4]\n",
      " [2 5]\n",
      " [3 6]]\n"
     ]
    }
   ],
   "source": [
    "#Syntax:-\n",
    "#numpy.column_stack(tup)\n",
    "#Code:-\n",
    "import numpy as np\n",
    "# input array \n",
    "a = np.array(( 1, 2, 3 )) \n",
    "print (\"1st Input array : \\n\", a)  \n",
    "  \n",
    "b = np.array(( 4, 5, 6 )) \n",
    "print (\"2nd Input array : \\n\", b)  \n",
    "  \n",
    "# Stacking the two arrays  \n",
    "op = np.column_stack((a, b)) \n",
    "print (\"Output stacked array:\\n \", op) "
   ]
  },
  {
   "cell_type": "raw",
   "metadata": {},
   "source": [
    "Application:-\n",
    "-Used to stack 1-D arrays as columns into a 2-D array."
   ]
  },
  {
   "cell_type": "code",
   "execution_count": null,
   "metadata": {},
   "outputs": [],
   "source": []
  }
 ],
 "metadata": {
  "kernelspec": {
   "display_name": "Python 3",
   "language": "python",
   "name": "python3"
  },
  "language_info": {
   "codemirror_mode": {
    "name": "ipython",
    "version": 3
   },
   "file_extension": ".py",
   "mimetype": "text/x-python",
   "name": "python",
   "nbconvert_exporter": "python",
   "pygments_lexer": "ipython3",
   "version": "3.8.3"
  }
 },
 "nbformat": 4,
 "nbformat_minor": 4
}
